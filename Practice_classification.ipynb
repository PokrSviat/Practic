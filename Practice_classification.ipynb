{
 "cells": [
  {
   "cell_type": "code",
   "execution_count": 51,
   "id": "1d3f6ba7",
   "metadata": {},
   "outputs": [],
   "source": [
    "import numpy as np\n",
    "import matplotlib.pyplot as plt\n",
    "import wget\n",
    "import pandas as pd\n",
    "\n",
    "from sklearn.metrics import accuracy_score\n",
    "from sklearn.linear_model import LogisticRegression\n",
    "from sklearn.model_selection import GridSearchCV, train_test_split, KFold, cross_val_score\n",
    "from sklearn.neighbors import KNeighborsClassifier\n",
    "from sklearn.svm import LinearSVC\n",
    "from sklearn.metrics import accuracy_score\n",
    "from sklearn.pipeline import make_pipeline\n",
    "from sklearn.compose import make_column_transformer\n",
    "from sklearn.preprocessing import StandardScaler, PolynomialFeatures"
   ]
  },
  {
   "cell_type": "code",
   "execution_count": 11,
   "id": "e096d1c0",
   "metadata": {},
   "outputs": [],
   "source": [
    "class FeatureSelector:\n",
    "  def __init__(self, num_features):\n",
    "    self.n = num_features # number of best features to select\n",
    "\n",
    "  def fit(self, X, y):\n",
    "    # Select features that describe the targets best, i.e. have\n",
    "    # highest correlation with them:\n",
    "    covariance = ((X - X.mean(axis=0)) * (y[:,np.newaxis] - y.mean())).mean(axis=0)\n",
    "    self.best_feature_ids = np.argsort(np.abs(covariance))[-self.n:]\n",
    "\n",
    "  def transform(self, X):\n",
    "    return X[:,self.best_feature_ids]\n",
    "\n",
    "  def fit_transform(self, X, y):\n",
    "    self.fit(X, y)\n",
    "    return self.transform(X)"
   ]
  },
  {
   "cell_type": "code",
   "execution_count": 33,
   "id": "5c072e12",
   "metadata": {},
   "outputs": [
    {
     "name": "stdout",
     "output_type": "stream",
     "text": [
      "CV score is 0.9400000000000001\n"
     ]
    }
   ],
   "source": [
    "num_features_total = 1000\n",
    "num_features_best = 100\n",
    "\n",
    "N = 100\n",
    "\n",
    "# Dataset generation\n",
    "X = np.random.normal(size=(N, num_features_total))\n",
    "y = np.random.randint(2, size=N)\n",
    "\n",
    "# Feature selection:\n",
    "X_best = FeatureSelector(num_features_best).fit_transform(X, y)\n",
    "\n",
    "# Simple classification model\n",
    "model = LinearSVC()\n",
    "\n",
    "# Estimatin accuracy using cross-validation:\n",
    "cv_score = cross_val_score(model, X_best, y, scoring='accuracy', cv=10, n_jobs=-1).mean()\n",
    "print(f\"CV score is {cv_score}\")"
   ]
  },
  {
   "cell_type": "code",
   "execution_count": 31,
   "id": "910e36bc",
   "metadata": {
    "scrolled": true
   },
   "outputs": [
    {
     "data": {
      "image/png": "[encoded data removed]",
      "text/plain": [
       "<Figure size 432x288 with 1 Axes>"
      ]
     },
     "metadata": {
      "needs_background": "light"
     },
     "output_type": "display_data"
    }
   ],
   "source": [
    "num_features_total = 1000\n",
    "num_features_best = 100\n",
    "\n",
    "N = 100\n",
    "def experiment():\n",
    "    # Dataset generation\n",
    "    X = np.random.normal(size=(N, num_features_total))\n",
    "    y = np.random.randint(2, size=N)\n",
    "    \n",
    "    # Feature selection:\n",
    "    X_best = FeatureSelector(num_features_best).fit_transform(X, y)\n",
    "    \n",
    "    # Simple classification model\n",
    "    model = LinearSVC()\n",
    "    # Estimatin accuracy using cross-validation:\n",
    "    return cross_val_score(model, X_best, y, scoring='accuracy', cv=10, n_jobs=-1).mean()\n",
    "\n",
    "results = [experiment() for _ in range(100)]\n",
    "plt.hist(results, bins=10);"
   ]
  },
  {
   "cell_type": "markdown",
   "id": "ca32bd52",
   "metadata": {},
   "source": [
    "## Task 1 (3 points)\n",
    "I soppose that models were overfitting. There was a high level of prediction in specific data, but if i use a training and test sample, this situation is corrected"
   ]
  },
  {
   "cell_type": "code",
   "execution_count": 36,
   "id": "dacf67ed",
   "metadata": {},
   "outputs": [
    {
     "name": "stdout",
     "output_type": "stream",
     "text": [
      "CV score is 0.45999999999999996\n"
     ]
    }
   ],
   "source": [
    "num_features_total = 1000\n",
    "num_features_best = 100\n",
    "\n",
    "N = 100\n",
    "\n",
    "# Dataset generation\n",
    "X = np.random.normal(size=(N, num_features_total))\n",
    "y = np.random.randint(2, size=N)\n",
    "\n",
    "X_train, X_test, y_train, y_test = train_test_split(X,y, test_size=50, random_state=42)\n",
    "# Feature selection:\n",
    "X_best = FeatureSelector(num_features_best).fit_transform(X_test, y_test)\n",
    "\n",
    "# Simple classification model\n",
    "model = LinearSVC()\n",
    "\n",
    "# Estimatin accuracy using cross-validation:\n",
    "cv_score = cross_val_score(model, X_best, y_train, scoring='accuracy', cv=10, n_jobs=-1).mean()\n",
    "print(f\"CV score is {cv_score}\")"
   ]
  },
  {
   "cell_type": "code",
   "execution_count": 37,
   "id": "07c5157e",
   "metadata": {},
   "outputs": [
    {
     "data": {
      "image/png": "[encoded data removed]",
      "text/plain": [
       "<Figure size 432x288 with 1 Axes>"
      ]
     },
     "metadata": {
      "needs_background": "light"
     },
     "output_type": "display_data"
    }
   ],
   "source": [
    "num_features_total = 1000\n",
    "num_features_best = 100\n",
    "\n",
    "N = 100\n",
    "def experiment():\n",
    "    # Dataset generation\n",
    "    X = np.random.normal(size=(N, num_features_total))\n",
    "    y = np.random.randint(2, size=N)\n",
    "    \n",
    "    X_train, X_test, y_train, y_test = train_test_split(X,y, test_size=50, random_state=42)\n",
    "    # Feature selection:\n",
    "    X_best = FeatureSelector(num_features_best).fit_transform(X_test, y_test)\n",
    "    \n",
    "    # Simple classification model\n",
    "    model = LinearSVC()\n",
    "    # Estimatin accuracy using cross-validation:\n",
    "    return cross_val_score(model, X_best, y_train, scoring='accuracy', cv=10, n_jobs=-1).mean()\n",
    "\n",
    "results = [experiment() for _ in range(100)]\n",
    "plt.hist(results, bins=10);"
   ]
  },
  {
   "cell_type": "markdown",
   "id": "df7b166f",
   "metadata": {},
   "source": [
    "## Task 2 (3 points)"
   ]
  },
  {
   "cell_type": "code",
   "execution_count": 139,
   "id": "02ec94cb",
   "metadata": {},
   "outputs": [
    {
     "name": "stdout",
     "output_type": "stream",
     "text": [
      "\r",
      "  0% [                                                                              ]     0 / 60302\r",
      " 13% [..........                                                                    ]  8192 / 60302\r",
      " 27% [.....................                                                         ] 16384 / 60302\r",
      " 40% [...............................                                               ] 24576 / 60302\r",
      " 54% [..........................................                                    ] 32768 / 60302\r",
      " 67% [....................................................                          ] 40960 / 60302\r",
      " 81% [...............................................................               ] 49152 / 60302\r",
      " 95% [..........................................................................    ] 57344 / 60302\r",
      "100% [..............................................................................] 60302 / 60302"
     ]
    },
    {
     "data": {
      "text/plain": [
       "'/Users/spokr/OneDrive/Documents/GitHub/train (1).csv'"
      ]
     },
     "execution_count": 139,
     "metadata": {},
     "output_type": "execute_result"
    }
   ],
   "source": [
    "wget.download('https://raw.githubusercontent.com/HSE-LAMBDA/MLDM-2022/main/01-intro/train.csv', '/Users/spokr/OneDrive/Documents/GitHub/train.csv')"
   ]
  },
  {
   "cell_type": "code",
   "execution_count": 140,
   "id": "0f6258be",
   "metadata": {
    "scrolled": false
   },
   "outputs": [],
   "source": [
    "data = pd.read_csv(\"train.csv\", index_col='PassengerId')"
   ]
  },
  {
   "cell_type": "markdown",
   "id": "5685b7a7",
   "metadata": {},
   "source": [
    "Example on selected independent variables"
   ]
  },
  {
   "cell_type": "code",
   "execution_count": 141,
   "id": "08884da4",
   "metadata": {
    "scrolled": true
   },
   "outputs": [
    {
     "name": "stdout",
     "output_type": "stream",
     "text": [
      "Test accuracy: 0.75\n"
     ]
    }
   ],
   "source": [
    "\n",
    "def feature_selection_and_preprocessing(dataset):\n",
    "    \n",
    "  features = dataset[[\"Fare\", \"Sex\"]].copy()\n",
    "  features.Sex = features.Sex.replace(['male', 'female'],[1,0])\n",
    "  features[\"Fare\"] /= features[\"Fare\"].mean()\n",
    "\n",
    "  features['Fare'] *= 1\n",
    "  return features\n",
    "\n",
    "model = KNeighborsClassifier(\n",
    "    # <YOUR CODE>\n",
    "    n_neighbors=6, weights = 'distance'\n",
    ")\n",
    "\n",
    "\n",
    "# Validation code (do not touch)\n",
    "data = pd.read_csv(\"train.csv\", index_col='PassengerId')\n",
    "data_train = data.iloc[:-100]\n",
    "data_test = data.iloc[-100:]\n",
    "\n",
    "model.fit(\n",
    "    feature_selection_and_preprocessing(\n",
    "        data_train.drop('Survived', axis=1)\n",
    "    ),\n",
    "    data_train['Survived']\n",
    ")\n",
    "\n",
    "test_predictions = model.predict(\n",
    "    feature_selection_and_preprocessing(\n",
    "        data_test.drop('Survived', axis=1)\n",
    "    )\n",
    ")\n",
    "print(\"Test accuracy:\", accuracy_score(\n",
    "    data_test['Survived'],\n",
    "    test_predictions\n",
    "))"
   ]
  },
  {
   "cell_type": "code",
   "execution_count": 142,
   "id": "b439c9e1",
   "metadata": {},
   "outputs": [
    {
     "data": {
      "text/plain": [
       "{'algorithm': 'auto', 'leaf_size': 11, 'n_neighbors': 6, 'weights': 'distance'}"
      ]
     },
     "execution_count": 142,
     "metadata": {},
     "output_type": "execute_result"
    }
   ],
   "source": [
    "# split dependent variable and parameters\n",
    "X_train = data[[\"Fare\", \"Sex\"]].copy()\n",
    "X_train.Sex = X_train.Sex.replace(['male', 'female'],[1,0])\n",
    "X_train[\"Fare\"] /= X_train[\"Fare\"].mean()\n",
    "X_train['Fare'] *= 1\n",
    "\n",
    "y_train = data['Survived']\n",
    "\n",
    "model = KNeighborsClassifier()\n",
    "\n",
    "#dictionary for setting parameters\n",
    "parametrs = { 'n_neighbors': range (1, 100, 5),\n",
    "              'weights': ['uniform', 'distance'],\n",
    "              'algorithm': ['auto', 'ball_tree', 'kd_tree', 'brute'],\n",
    "              'leaf_size': range (1, 100, 10)}\n",
    "\n",
    "grid = GridSearchCV(model, parametrs, cv=5)\n",
    "grid.fit(X_train, y_train)\n",
    "grid.best_params_"
   ]
  },
  {
   "cell_type": "code",
   "execution_count": 144,
   "id": "d0e6f52f",
   "metadata": {
    "scrolled": true
   },
   "outputs": [
    {
     "name": "stdout",
     "output_type": "stream",
     "text": [
      "Test accuracy: 0.74\n"
     ]
    }
   ],
   "source": [
    "def feature_selection_and_preprocessing(dataset):\n",
    "    \n",
    "  features = dataset[[\"Fare\", \"Sex\"]].copy()\n",
    "  features.Sex = features.Sex.replace(['male', 'female'],[1,0])\n",
    "  features[\"Fare\"] /= features[\"Fare\"].mean()\n",
    "\n",
    "  features['Fare'] *= 1\n",
    "  return features\n",
    "\n",
    "model = KNeighborsClassifier(\n",
    "    n_neighbors=6, algorithm='auto',leaf_size=11, weights = 'distance')\n",
    "\n",
    "\n",
    "# Validation code (do not touch)\n",
    "data = pd.read_csv(\"train.csv\", index_col='PassengerId')\n",
    "data_train = data.iloc[:-100]\n",
    "data_test = data.iloc[-100:]\n",
    "\n",
    "model.fit(\n",
    "    feature_selection_and_preprocessing(\n",
    "        data_train.drop('Survived', axis=1)\n",
    "    ),\n",
    "    data_train['Survived']\n",
    ")\n",
    "\n",
    "test_predictions = model.predict(\n",
    "    feature_selection_and_preprocessing(\n",
    "        data_test.drop('Survived', axis=1)\n",
    "    )\n",
    ")\n",
    "print(\"Test accuracy:\", accuracy_score(\n",
    "    data_test['Survived'],\n",
    "    test_predictions\n",
    "))"
   ]
  },
  {
   "cell_type": "markdown",
   "id": "7664c5f8",
   "metadata": {},
   "source": [
    "Example on all independent variables"
   ]
  },
  {
   "cell_type": "code",
   "execution_count": 145,
   "id": "925e9222",
   "metadata": {},
   "outputs": [
    {
     "data": {
      "text/html": [
       "<div>\n",
       "<style scoped>\n",
       "    .dataframe tbody tr th:only-of-type {\n",
       "        vertical-align: middle;\n",
       "    }\n",
       "\n",
       "    .dataframe tbody tr th {\n",
       "        vertical-align: top;\n",
       "    }\n",
       "\n",
       "    .dataframe thead th {\n",
       "        text-align: right;\n",
       "    }\n",
       "</style>\n",
       "<table border=\"1\" class=\"dataframe\">\n",
       "  <thead>\n",
       "    <tr style=\"text-align: right;\">\n",
       "      <th></th>\n",
       "      <th>Survived</th>\n",
       "      <th>Pclass</th>\n",
       "      <th>Sex</th>\n",
       "      <th>Age</th>\n",
       "      <th>SibSp</th>\n",
       "      <th>Parch</th>\n",
       "      <th>Fare</th>\n",
       "      <th>Embarked</th>\n",
       "    </tr>\n",
       "    <tr>\n",
       "      <th>PassengerId</th>\n",
       "      <th></th>\n",
       "      <th></th>\n",
       "      <th></th>\n",
       "      <th></th>\n",
       "      <th></th>\n",
       "      <th></th>\n",
       "      <th></th>\n",
       "      <th></th>\n",
       "    </tr>\n",
       "  </thead>\n",
       "  <tbody>\n",
       "    <tr>\n",
       "      <th>1</th>\n",
       "      <td>0</td>\n",
       "      <td>3</td>\n",
       "      <td>1</td>\n",
       "      <td>22.0</td>\n",
       "      <td>1</td>\n",
       "      <td>0</td>\n",
       "      <td>7.2500</td>\n",
       "      <td>1</td>\n",
       "    </tr>\n",
       "    <tr>\n",
       "      <th>2</th>\n",
       "      <td>1</td>\n",
       "      <td>1</td>\n",
       "      <td>0</td>\n",
       "      <td>38.0</td>\n",
       "      <td>1</td>\n",
       "      <td>0</td>\n",
       "      <td>71.2833</td>\n",
       "      <td>2</td>\n",
       "    </tr>\n",
       "    <tr>\n",
       "      <th>3</th>\n",
       "      <td>1</td>\n",
       "      <td>3</td>\n",
       "      <td>0</td>\n",
       "      <td>26.0</td>\n",
       "      <td>0</td>\n",
       "      <td>0</td>\n",
       "      <td>7.9250</td>\n",
       "      <td>1</td>\n",
       "    </tr>\n",
       "    <tr>\n",
       "      <th>4</th>\n",
       "      <td>1</td>\n",
       "      <td>1</td>\n",
       "      <td>0</td>\n",
       "      <td>35.0</td>\n",
       "      <td>1</td>\n",
       "      <td>0</td>\n",
       "      <td>53.1000</td>\n",
       "      <td>1</td>\n",
       "    </tr>\n",
       "    <tr>\n",
       "      <th>5</th>\n",
       "      <td>0</td>\n",
       "      <td>3</td>\n",
       "      <td>1</td>\n",
       "      <td>35.0</td>\n",
       "      <td>0</td>\n",
       "      <td>0</td>\n",
       "      <td>8.0500</td>\n",
       "      <td>1</td>\n",
       "    </tr>\n",
       "  </tbody>\n",
       "</table>\n",
       "</div>"
      ],
      "text/plain": [
       "             Survived  Pclass  Sex   Age  SibSp  Parch     Fare  Embarked\n",
       "PassengerId                                                              \n",
       "1                   0       3    1  22.0      1      0   7.2500         1\n",
       "2                   1       1    0  38.0      1      0  71.2833         2\n",
       "3                   1       3    0  26.0      0      0   7.9250         1\n",
       "4                   1       1    0  35.0      1      0  53.1000         1\n",
       "5                   0       3    1  35.0      0      0   8.0500         1"
      ]
     },
     "execution_count": 145,
     "metadata": {},
     "output_type": "execute_result"
    }
   ],
   "source": [
    "#data preparation\n",
    "data = data.drop('Name',  axis=1)\n",
    "data = data.drop('Ticket',  axis=1)\n",
    "data = data.drop('Cabin',  axis=1)\n",
    "data.Sex = data.Sex.replace(['male', 'female'],[1,0])\n",
    "data.Embarked = data[\"Embarked\"].fillna(data[\"Embarked\"].mode()[0])\n",
    "data.Age.fillna(data[\"Age\"].median(),inplace = True)\n",
    "recode = {\"Embarked\":     {\"S\": 1, \"C\": 2,\"Q\":3}}\n",
    "data = data.replace(recode)          \n",
    "data.head()"
   ]
  },
  {
   "cell_type": "code",
   "execution_count": 146,
   "id": "6c670371",
   "metadata": {
    "scrolled": true
   },
   "outputs": [
    {
     "data": {
      "text/plain": [
       "{'algorithm': 'auto',\n",
       " 'leaf_size': 10,\n",
       " 'n_neighbors': 26,\n",
       " 'weights': 'distance'}"
      ]
     },
     "execution_count": 146,
     "metadata": {},
     "output_type": "execute_result"
    }
   ],
   "source": [
    "# split dependent variable and parameters\n",
    "X_train = data.drop('Survived', axis=1)\n",
    "y_train = data['Survived']\n",
    "\n",
    "model = KNeighborsClassifier()\n",
    "\n",
    "#dictionary for setting parameters\n",
    "parametrs = { 'n_neighbors': range (1, 30, 5),\n",
    "              'weights': ['uniform', 'distance'],\n",
    "              'algorithm': ['auto', 'ball_tree', 'kd_tree', 'brute'],\n",
    "              'leaf_size': range (10, 50, 10)}\n",
    "\n",
    "grid = GridSearchCV(model, parametrs, cv=5)\n",
    "grid.fit(X_train, y_train)\n",
    "grid.best_params_"
   ]
  },
  {
   "cell_type": "code",
   "execution_count": 147,
   "id": "c6a8aa36",
   "metadata": {},
   "outputs": [
    {
     "name": "stdout",
     "output_type": "stream",
     "text": [
      "Test accuracy: 0.74\n"
     ]
    }
   ],
   "source": [
    "def feature_selection_and_preprocessing(dataset):\n",
    "    features = dataset.copy()\n",
    "    \n",
    "    features = features.drop('Name',  axis=1)\n",
    "    features = features.drop('Ticket',  axis=1)\n",
    "    features = features.drop('Cabin',  axis=1)\n",
    "    \n",
    "    features.Sex = features.Sex.replace(['male', 'female'],[1,0])\n",
    "    \n",
    "    features.Embarked = features[\"Embarked\"].fillna(features[\"Embarked\"].mode()[0])\n",
    "    recode = {\"Embarked\":     {\"S\": 1, \"C\": 2,\"Q\":3}}\n",
    "    features = features.replace(recode)\n",
    "    \n",
    "    features.Age.fillna(features[\"Age\"].median(),inplace = True)\n",
    "    \n",
    "    features[\"Fare\"] /= features[\"Fare\"].mean()\n",
    "    features['Fare'] *= 1\n",
    "    return features\n",
    "\n",
    "model = KNeighborsClassifier(\n",
    "    n_neighbors=26, algorithm='auto',leaf_size=10, weights = 'distance')\n",
    "\n",
    "\n",
    "# Validation code (do not touch)\n",
    "data = pd.read_csv(\"train.csv\", index_col='PassengerId')\n",
    "data_train = data.iloc[:-100]\n",
    "data_test = data.iloc[-100:]\n",
    "\n",
    "model.fit(\n",
    "    feature_selection_and_preprocessing(\n",
    "        data_train.drop('Survived', axis=1)\n",
    "    ),\n",
    "    data_train['Survived']\n",
    ")\n",
    "\n",
    "test_predictions = model.predict(\n",
    "    feature_selection_and_preprocessing(\n",
    "        data_test.drop('Survived', axis=1)\n",
    "    )\n",
    ")\n",
    "print(\"Test accuracy:\", accuracy_score(\n",
    "    data_test['Survived'],\n",
    "    test_predictions\n",
    "))"
   ]
  }
 ],
 "metadata": {
  "kernelspec": {
   "display_name": "Python 3 (ipykernel)",
   "language": "python",
   "name": "python3"
  },
  "language_info": {
   "codemirror_mode": {
    "name": "ipython",
    "version": 3
   },
   "file_extension": ".py",
   "mimetype": "text/x-python",
   "name": "python",
   "nbconvert_exporter": "python",
   "pygments_lexer": "ipython3",
   "version": "3.9.13"
  }
 },
 "nbformat": 4,
 "nbformat_minor": 5
}
